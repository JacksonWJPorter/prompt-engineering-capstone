{
 "cells": [
  {
   "cell_type": "code",
   "execution_count": 2,
   "metadata": {},
   "outputs": [],
   "source": [
    "import pandas as pd\n",
    "from agentic.enhancer import AgenticEnhancer"
   ]
  },
  {
   "cell_type": "code",
   "execution_count": 3,
   "metadata": {},
   "outputs": [],
   "source": [
    "def agentic_enhancer(original_prompt):\n",
    "    \n",
    "    agentic = AgenticEnhancer(original_prompt)\n",
    "    agentic_answer = agentic.execute_workflow()\n",
    "\n",
    "    original_prompt = agentic_answer.get(\"original_prompt\")\n",
    "    original_prompt_answer = agentic_answer.get(\"original_prompt_answer\")\n",
    "    original_prompt_lin_probs = agentic_answer.get(\"original_prompt_lin_probs\")\n",
    "    enhanced_prompt = agentic_answer.get(\"enhanced_prompt\")\n",
    "    final_prompt_answer = agentic_answer.get(\"final_prompt_answer\")\n",
    "    final_prompt_lin_probs = agentic_answer.get(\"final_prompt_lin_probs\")\n",
    "    \n",
    "    final_result = {\n",
    "        \"original_prompt\": original_prompt,\n",
    "        \"original_prompt_answer\": original_prompt_answer,\n",
    "        \"original_prompt_lin_probs\": original_prompt_lin_probs,\n",
    "        \"enhanced_prompt\": enhanced_prompt,\n",
    "        \"final_prompt_answer\": final_prompt_answer,\n",
    "        \"final_prompt_lin_probs\": final_prompt_lin_probs,\n",
    "    }\n",
    "    \n",
    "    return final_result"
   ]
  },
  {
   "cell_type": "code",
   "execution_count": 4,
   "metadata": {},
   "outputs": [
    {
     "name": "stdout",
     "output_type": "stream",
     "text": [
      "\u001b[1m\u001b[34mOriginal Prompt: \u001b[0m I need a name for my basketball team.\n",
      "\u001b[1m\u001b[34mOriginal Answer: \u001b[0m Here are some creative names for your basketball team:\n",
      "\n",
      "1. ThunderDribblers\n",
      "2. RimRockers\n",
      "3. The Dunk Dynasty\n",
      "4. Hoops Avengers\n",
      "5. The Fast Breakers\n",
      "6. Net Warriors\n",
      "7. Ballistic Ballers\n",
      "8. The Incrediballs\n",
      "9. Shadow Shooters\n",
      "10. Court Kings\n",
      "\n",
      "Feel free to mix and match words or modify them to better fit your team's personality!\n",
      "\u001b[1m\u001b[34mOriginal Lin Probs: \u001b[0m 3.0024769015280897e-49\n",
      "\u001b[1m\u001b[95mCategory Determined: \u001b[0m creative-writing-and-ideation\n",
      "\u001b[1m\u001b[95mRephrased Prompt: \u001b[0m **Task:** Generate a creative and catchy name for a basketball team.\n",
      "\n",
      "**Context:** The name should reflect the spirit of teamwork, competition, and the sport of basketball. Consider themes like strength, agility, or local culture.\n",
      "\n",
      "**Output Format:** Provide a list of 5-10 name suggestions.\n",
      "\u001b[1m\u001b[95mEnhanced Prompt: \u001b[0m **Role:** You are a creative branding expert specializing in sports team names.\n",
      "\n",
      "---\n",
      "\n",
      "**Task:** Generate a creative and catchy name for a basketball team.\n",
      "\n",
      "**Context:** The name should embody the spirit of teamwork, competition, and the sport of basketball. Consider incorporating themes such as strength, agility, and elements of local culture or geography.\n",
      "\n",
      "**Output Format:** Please provide a list of **5-10 unique name suggestions** that capture the essence of the team and resonate with fans. \n",
      "\n",
      "--- \n",
      "\n",
      "**Additional Notes:** Feel free to explore wordplay, alliteration, or cultural references that enhance the appeal of the names.\n",
      "\u001b[1m\u001b[95mQuality Issues: \u001b[0m []\n",
      "\u001b[1m\u001b[34mFinal Prompt: \u001b[0m **Role:** You are a creative branding expert specializing in sports team names.\n",
      "\n",
      "---\n",
      "\n",
      "**Task:** Generate a creative and catchy name for a basketball team.\n",
      "\n",
      "**Context:** The name should embody the spirit of teamwork, competition, and the sport of basketball. Consider incorporating themes such as strength, agility, and elements of local culture or geography.\n",
      "\n",
      "**Output Format:** Please provide a list of **5-10 unique name suggestions** that capture the essence of the team and resonate with fans. \n",
      "\n",
      "--- \n",
      "\n",
      "**Additional Notes:** Feel free to explore wordplay, alliteration, or cultural references that enhance the appeal of the names.\n",
      "\u001b[1m\u001b[34mFinal Answer: \u001b[0m Here are some creative and catchy name suggestions for a basketball team that embody teamwork, competition, and the spirit of the sport:\n",
      "\n",
      "1. **Hoop Warriors** - A name that emphasizes strength and determination on the court, perfect for a team that fights for every point.\n",
      "\n",
      "2. **Skyline Slammers** - This name combines the idea of urban culture with the action of dunking, suggesting a team that soars above the competition.\n",
      "\n",
      "3. **Net Ninjas** - A playful yet fierce name that highlights agility and precision, ideal for a team known for their quick plays and stealthy moves.\n",
      "\n",
      "4. **Ballistic Bouncers** - This name captures the explosive energy of basketball, suggesting a team that is dynamic and hard-hitting.\n",
      "\n",
      "5. **Crossover Commanders** - A name that reflects skillful ball handling and leadership on the court, perfect for a team that excels in strategy and teamwork.\n",
      "\n",
      "6. **Rim Runners** - This name evokes speed and agility, suggesting a team that is always on the move and ready to score.\n",
      "\n",
      "7. **Dribble Dynamos** - A catchy alliteration that emphasizes the skill of dribbling, representing a team that is fast-paced and full of energy.\n",
      "\n",
      "8. **The Court Conquerors** - A strong name that embodies the competitive spirit of the team, suggesting they dominate the basketball court.\n",
      "\n",
      "9. **Alley-Oop Avengers** - This name plays on a popular basketball move, suggesting a team that is always ready to make spectacular plays.\n",
      "\n",
      "10. **The Dunking Dons** - A regal name that combines the elegance of the sport with the power of dunking, perfect for a team that commands respect on the court.\n",
      "\n",
      "These names aim to resonate with fans and reflect the essence of teamwork and competition in basketball.\n",
      "\u001b[1m\u001b[34mFinal Lin Probs: \u001b[0m 0.6701061123759143\n"
     ]
    }
   ],
   "source": [
    "final_result = agentic_enhancer(original_prompt = \"I need a name for my basketball team.\")"
   ]
  },
  {
   "cell_type": "code",
   "execution_count": null,
   "metadata": {},
   "outputs": [],
   "source": [
    "display(final_result)"
   ]
  }
 ],
 "metadata": {
  "kernelspec": {
   "display_name": "venv",
   "language": "python",
   "name": "python3"
  },
  "language_info": {
   "codemirror_mode": {
    "name": "ipython",
    "version": 3
   },
   "file_extension": ".py",
   "mimetype": "text/x-python",
   "name": "python",
   "nbconvert_exporter": "python",
   "pygments_lexer": "ipython3",
   "version": "3.10.15"
  }
 },
 "nbformat": 4,
 "nbformat_minor": 2
}
