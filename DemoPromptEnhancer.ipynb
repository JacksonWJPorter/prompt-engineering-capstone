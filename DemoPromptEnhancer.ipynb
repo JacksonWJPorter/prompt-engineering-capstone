{
 "cells": [
  {
   "cell_type": "code",
   "execution_count": 1,
   "metadata": {},
   "outputs": [],
   "source": [
    "import pandas as pd\n",
    "from agentic.enhancer import AgenticEnhancer"
   ]
  },
  {
   "cell_type": "code",
   "execution_count": 3,
   "metadata": {},
   "outputs": [],
   "source": [
    "def agentic_enhancer(original_prompt):\n",
    "    \n",
    "    agentic = AgenticEnhancer(original_prompt)\n",
    "    agentic_answer = agentic.execute_workflow()\n",
    "\n",
    "    enhanced_prompt = agentic_answer.get(\"enhanced_prompt\")\n",
    "    \n",
    "    final_result = {\n",
    "        \"original_prompt\": original_prompt,\n",
    "        \"enhanced_prompt\": enhanced_prompt,\n",
    "    }\n",
    "    \n",
    "    return final_result"
   ]
  },
  {
   "cell_type": "code",
   "execution_count": 4,
   "metadata": {},
   "outputs": [
    {
     "name": "stdout",
     "output_type": "stream",
     "text": [
      "\u001b[1m\u001b[95mCategory Determined: \u001b[0m {query=\"who is the president of the usa\", category=\"simple question\"}\n",
      "\u001b[1m\u001b[95mRephrased Prompt: \u001b[0m **Desired Output:** Provide the name of the current President of the United States.\n",
      "\n",
      "**Context:** The user is seeking up-to-date information regarding the political leadership of the United States.\n",
      "\n",
      "**Rephrased Prompt:** What is the name of the current President of the United States as of October 2023?\n",
      "\u001b[1m\u001b[95mEnhanced Prompt: \u001b[0m **Role:** You are a knowledgeable political analyst tasked with providing accurate and current information about political leadership.\n",
      "\n",
      "---\n",
      "\n",
      "**Enhanced Prompt:** \n",
      "\n",
      "**Desired Output:** Please provide the name of the current President of the United States.\n",
      "\n",
      "**Context:** The user is seeking up-to-date information regarding the political leadership of the United States as of October 2023. \n",
      "\n",
      "**Question:** What is the name of the current President of the United States?\n",
      "\n",
      "======================================================================\n",
      "\u001b[1m\u001b[36m🔍 PROMPT EVALUATION IN PROGRESS\u001b[0m\n",
      "======================================================================\n",
      "\u001b[33m\n",
      "📝 Original Prompt:\u001b[0m\n",
      "**Role:** You are a knowledgeable political analyst tasked with providing accurate and current information about political leadership.\n",
      "\n",
      "---\n",
      "\n",
      "**Enhanced Prompt:** \n",
      "\n",
      "**Desired Output:** Please provide the name of the current President of the United States.\n",
      "\n",
      "**Context:** The user is seeking up-to-date information regarding the political leadership of the United States as of October 2023. \n",
      "\n",
      "**Question:** What is the name of the current President of the United States?\n",
      "\n",
      "\u001b[1m\u001b[36m\n",
      "📊 EVALUATION SCORES\u001b[0m\n",
      "----------------------------------------\n",
      "\u001b[1m\u001b[32m\n",
      "🎯 Overall Score: 8.9/10\u001b[0m\n",
      "\u001b[32m██████████████████████████░░░░\u001b[0m\n",
      "\u001b[36m\n",
      "📈 Dimension Scores:\u001b[0m\n",
      "Clarity      \u001b[32m9/10 ██████████████████░░\u001b[0m\n",
      "Specificity  \u001b[32m8/10 ████████████████░░░░\u001b[0m\n",
      "Completeness \u001b[32m9/10 ██████████████████░░\u001b[0m\n",
      "Structure    \u001b[32m8/10 ████████████████░░░░\u001b[0m\n",
      "Task_Focus   \u001b[32m10/10 ████████████████████\u001b[0m\n",
      "\u001b[1m\u001b[36m\n",
      "💡 DETAILED FEEDBACK\u001b[0m\n",
      "----------------------------------------\n",
      "\u001b[33m\n",
      "Clarity:\u001b[0m\n",
      "  ✓ The prompt is clear and easy to understand.\n",
      "  ✓ No significant improvements needed.\n",
      "\u001b[33m\n",
      "Specificity:\u001b[0m\n",
      "  ✓ The prompt specifies the information being requested (current President).\n",
      "  ✓ Could specify the format of the answer (e.g., full name).\n",
      "\u001b[33m\n",
      "Completeness:\u001b[0m\n",
      "  ✓ The prompt provides all necessary context for the question.\n",
      "  ✓ No additional context is required.\n",
      "\u001b[33m\n",
      "Structure:\u001b[0m\n",
      "  ✓ The structure is logical and follows a clear format.\n",
      "  ✓ Could benefit from a more distinct separation between sections.\n",
      "\u001b[33m\n",
      "Task_Focus:\u001b[0m\n",
      "  ✓ The prompt maintains a strong focus on the task of identifying political leadership.\n",
      "  ✓ No improvements needed.\n",
      "\u001b[1m\u001b[36m\n",
      "🚀 IMPROVEMENT SUGGESTIONS\u001b[0m\n",
      "----------------------------------------\n",
      "1. Specify that the answer should include the full name of the President.\n",
      "2. Consider using bullet points for clarity in the structure.\n",
      "3. Add a brief note on the importance of the information being requested.\n",
      "\u001b[1m\u001b[36m\n",
      "📋 FINAL ASSESSMENT\u001b[0m\n",
      "----------------------------------------\n",
      "\u001b[32m✨ Excellent prompt! Ready for use.\u001b[0m\n",
      "\n",
      "======================================================================\n",
      "\n"
     ]
    }
   ],
   "source": [
    "final_result = agentic_enhancer(original_prompt = \"who is the president of the usa\")"
   ]
  },
  {
   "cell_type": "code",
   "execution_count": 5,
   "metadata": {},
   "outputs": [
    {
     "data": {
      "text/plain": [
       "{'original_prompt': 'who is the president of the usa',\n",
       " 'enhanced_prompt': '**Role:** You are a knowledgeable political analyst tasked with providing accurate and current information about political leadership.\\n\\n---\\n\\n**Enhanced Prompt:** \\n\\n**Desired Output:** Please provide the name of the current President of the United States.\\n\\n**Context:** The user is seeking up-to-date information regarding the political leadership of the United States as of October 2023. \\n\\n**Question:** What is the name of the current President of the United States?'}"
      ]
     },
     "metadata": {},
     "output_type": "display_data"
    }
   ],
   "source": [
    "display(final_result)"
   ]
  }
 ],
 "metadata": {
  "kernelspec": {
   "display_name": "venv",
   "language": "python",
   "name": "python3"
  },
  "language_info": {
   "codemirror_mode": {
    "name": "ipython",
    "version": 3
   },
   "file_extension": ".py",
   "mimetype": "text/x-python",
   "name": "python",
   "nbconvert_exporter": "python",
   "pygments_lexer": "ipython3",
   "version": "3.10.15"
  }
 },
 "nbformat": 4,
 "nbformat_minor": 2
}
